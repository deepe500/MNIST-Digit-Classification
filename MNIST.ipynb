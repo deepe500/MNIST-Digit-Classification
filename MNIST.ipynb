{
 "cells": [
  {
   "cell_type": "code",
   "execution_count": 1,
   "id": "b1b6aa23",
   "metadata": {},
   "outputs": [],
   "source": [
    "import pandas as pd\n",
    "import numpy as np\n",
    "import matplotlib\n",
    "from matplotlib import pyplot as plt\n",
    "from sklearn.metrics import mean_squared_error\n",
    "from sklearn.metrics import accuracy_score"
   ]
  },
  {
   "cell_type": "code",
   "execution_count": 6,
   "id": "c599eb30",
   "metadata": {},
   "outputs": [],
   "source": [
    "traindf = pd.read_csv(\"D:\\projects\\linkedin & github\\projects\\mnist_dataset\\mnist_train.csv\")\n",
    "testdf = pd.read_csv(\"D:\\projects\\linkedin & github\\projects\\mnist_dataset\\mnist_test.csv\")"
   ]
  },
  {
   "cell_type": "code",
   "execution_count": 10,
   "id": "07b979bf",
   "metadata": {},
   "outputs": [
    {
     "name": "stdout",
     "output_type": "stream",
     "text": [
      "(16000, 784)\n",
      "(10000, 784)\n"
     ]
    }
   ],
   "source": [
    "#preprocessing\n",
    "\n",
    "x_train = traindf.drop('label',axis=1).iloc[0:16000,0:16000]\n",
    "y_train = traindf['label'].iloc[0:16000]\n",
    "#iloc/loc\n",
    "\n",
    "x_test = testdf.drop('label',axis=1)\n",
    "y_test = testdf['label']\n",
    "\n",
    "print(x_train.shape)\n",
    "print(x_test.shape)"
   ]
  },
  {
   "cell_type": "code",
   "execution_count": 17,
   "id": "85e153c5",
   "metadata": {},
   "outputs": [
    {
     "name": "stdout",
     "output_type": "stream",
     "text": [
      "enter random number: 7\n",
      "label : 3\n"
     ]
    },
    {
     "data": {
      "image/png": "[encoded data removed]",
      "text/plain": [
       "<Figure size 300x300 with 1 Axes>"
      ]
     },
     "metadata": {},
     "output_type": "display_data"
    }
   ],
   "source": [
    "#test image plotting\n",
    "\n",
    "plt.figure(figsize=(3,3))\n",
    "random_num= int(input(\"enter random number: \"))\n",
    "image = x_train.iloc[random_num].to_numpy().reshape(28,28)\n",
    "plt.imshow(image, cmap=matplotlib.cm.binary)\n",
    "print(\"label :\",y_train[random_num])"
   ]
  },
  {
   "cell_type": "code",
   "execution_count": 18,
   "id": "c92d2953",
   "metadata": {},
   "outputs": [
    {
     "name": "stdout",
     "output_type": "stream",
     "text": [
      "Mean squared error svm(linear):  1.378\n",
      "Accuracy svm(linear):  0.9174\n"
     ]
    }
   ],
   "source": [
    "#SVM (Linear)\n",
    "\n",
    "from sklearn.svm import SVC\n",
    "\n",
    "svml = SVC(kernel=\"linear\")\n",
    "svml.fit(x_train, y_train)\n",
    "\n",
    "pred_svml = svml.predict(x_test)\n",
    "\n",
    "print(\"Mean squared error svm(linear): \",mean_squared_error(y_test, pred_svml))\n",
    "print(\"Accuracy svm(linear): \",accuracy_score(y_test, pred_svml))"
   ]
  },
  {
   "cell_type": "code",
   "execution_count": 19,
   "id": "d1a40e6b",
   "metadata": {},
   "outputs": [
    {
     "name": "stdout",
     "output_type": "stream",
     "text": [
      "Mean squared error svm(polynomial):  0.7037\n",
      "Accuracy svm(polynomial):  0.9638\n"
     ]
    }
   ],
   "source": [
    "#SVM (Polynomial)\n",
    "\n",
    "svmp = SVC(kernel=\"poly\", degree = 2)\n",
    "svmp.fit(x_train, y_train)\n",
    "\n",
    "pred_svmp = svmp.predict(x_test)\n",
    "\n",
    "print(\"Mean squared error svm(polynomial): \",mean_squared_error(y_test, pred_svmp))\n",
    "print(\"Accuracy svm(polynomial): \",accuracy_score(y_test, pred_svmp))"
   ]
  },
  {
   "cell_type": "code",
   "execution_count": 20,
   "id": "28712d9e",
   "metadata": {},
   "outputs": [
    {
     "name": "stdout",
     "output_type": "stream",
     "text": [
      "Mean squared error svm(rbf):  0.6558\n",
      "Accuracy svm(rbf):  0.9672\n"
     ]
    }
   ],
   "source": [
    "#SVM (rbf)\n",
    "\n",
    "svm_rbf = SVC(kernel=\"rbf\")\n",
    "svm_rbf.fit(x_train, y_train)\n",
    "\n",
    "pred_svm_rbf = svm_rbf.predict(x_test)\n",
    "\n",
    "print(\"Mean squared error svm(rbf): \",mean_squared_error(y_test, pred_svm_rbf))\n",
    "print(\"Accuracy svm(rbf): \",accuracy_score(y_test, pred_svm_rbf))"
   ]
  },
  {
   "cell_type": "code",
   "execution_count": 22,
   "id": "eed07bec",
   "metadata": {},
   "outputs": [
    {
     "name": "stdout",
     "output_type": "stream",
     "text": [
      "Mean squared error Logistic Regression:  1.5296\n",
      "Accuracy of Logistic Regression:  0.9056\n"
     ]
    }
   ],
   "source": [
    "#Logistic Regression\n",
    "import warnings\n",
    "from sklearn.linear_model import LogisticRegression\n",
    "warnings.filterwarnings('ignore')\n",
    "\n",
    "lr = LogisticRegression()\n",
    "lr.fit(x_train, y_train)\n",
    "\n",
    "pred_lr = lr.predict(x_test)\n",
    "\n",
    "print(\"Mean squared error Logistic Regression: \",mean_squared_error(y_test, pred_lr))\n",
    "print(\"Accuracy of Logistic Regression: \", accuracy_score(y_test, pred_lr))"
   ]
  },
  {
   "cell_type": "code",
   "execution_count": 23,
   "id": "744f1740",
   "metadata": {},
   "outputs": [
    {
     "name": "stdout",
     "output_type": "stream",
     "text": [
      "Best accuracy found for : {'n_neighbors': 3} \n",
      "Accuracy:  0.9516875\n",
      "Mean squared error KNN:  0.9407\n",
      "Accuracy of KNN:  0.9537\n"
     ]
    }
   ],
   "source": [
    "#KNN\n",
    "\n",
    "from sklearn.model_selection import GridSearchCV       #using gridsearchcv to get best value for N hyperparameter tunning\n",
    "import warnings\n",
    "from sklearn.neighbors import KNeighborsClassifier\n",
    "\n",
    "knn_h = KNeighborsClassifier()\n",
    "knn_h.fit(x_train, y_train)\n",
    "warnings.filterwarnings('ignore') #to disable printing future warning\n",
    "\n",
    "parameter_grid = {\"n_neighbors\" :[2,4,3,7,10,14,11,12,13,15,16,17,18]}\n",
    "grid = GridSearchCV(knn_h,  parameter_grid, cv = 10, scoring='accuracy',return_train_score = False)\n",
    "grid.fit(x_train, y_train)\n",
    "\n",
    "print(\"Best accuracy found for :\",grid.best_params_,\"\\nAccuracy: \",grid.best_score_)\n",
    "n = grid.best_params_.get('n_neighbors') #storing best value for n\n",
    "\n",
    "from sklearn.neighbors import KNeighborsClassifier\n",
    "\n",
    "knn = KNeighborsClassifier(n_neighbors=n)\n",
    "knn.fit(x_train, y_train)\n",
    "pred_knn = knn.predict(x_test)\n",
    "\n",
    "print(\"Mean squared error KNN: \",mean_squared_error(y_test, pred_knn))\n",
    "print(\"Accuracy of KNN: \", accuracy_score(y_test, pred_knn))"
   ]
  }
 ],
 "metadata": {
  "kernelspec": {
   "display_name": "Python 3 (ipykernel)",
   "language": "python",
   "name": "python3"
  },
  "language_info": {
   "codemirror_mode": {
    "name": "ipython",
    "version": 3
   },
   "file_extension": ".py",
   "mimetype": "text/x-python",
   "name": "python",
   "nbconvert_exporter": "python",
   "pygments_lexer": "ipython3",
   "version": "3.9.13"
  }
 },
 "nbformat": 4,
 "nbformat_minor": 5
}
