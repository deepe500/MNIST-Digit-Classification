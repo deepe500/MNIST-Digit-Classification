{
 "cells": [
  {
   "cell_type": "code",
   "execution_count": 1,
   "id": "09d093e7",
   "metadata": {},
   "outputs": [],
   "source": [
    "from PIL import Image, ImageDraw\n",
    "import tkinter as tk\n",
    "from tkinter import PhotoImage\n",
    "\n",
    "import numpy as np\n",
    "import pandas as pd\n",
    "\n",
    "import cv\n",
    "import os\n",
    "\n",
    "from matplotlib.image import imread"
   ]
  },
  {
   "cell_type": "code",
   "execution_count": 2,
   "id": "ef808f30",
   "metadata": {},
   "outputs": [
    {
     "name": "stdout",
     "output_type": "stream",
     "text": [
      "Requirement already satisfied: opencv-python in c:\\users\\satij\\anaconda3\\lib\\site-packages (4.9.0.80)\n",
      "Requirement already satisfied: numpy>=1.17.0 in c:\\users\\satij\\anaconda3\\lib\\site-packages (from opencv-python) (1.21.5)\n",
      "Note: you may need to restart the kernel to use updated packages.\n"
     ]
    }
   ],
   "source": [
    "pip install opencv-python"
   ]
  },
  {
   "cell_type": "code",
   "execution_count": 3,
   "id": "51267224",
   "metadata": {},
   "outputs": [
    {
     "data": {
      "text/plain": [
       "SVC()"
      ]
     },
     "execution_count": 3,
     "metadata": {},
     "output_type": "execute_result"
    }
   ],
   "source": [
    "traindf = pd.read_csv(\"D:\\projects\\linkedin & github\\projects\\mnist_dataset\\mnist_train.csv\")\n",
    "\n",
    "x_train = traindf.drop('label',axis=1)\n",
    "y_train = traindf['label']\n",
    "\n",
    "from sklearn.svm import SVC\n",
    "svm_rbf = SVC(kernel=\"rbf\")\n",
    "svm_rbf.fit(x_train, y_train)"
   ]
  },
  {
   "cell_type": "code",
   "execution_count": 4,
   "id": "cf5c86de",
   "metadata": {},
   "outputs": [
    {
     "data": {
      "text/plain": [
       "''"
      ]
     },
     "execution_count": 4,
     "metadata": {},
     "output_type": "execute_result"
    }
   ],
   "source": [
    "root = tk.Tk()\n",
    "\n",
    "root.configure(bg = \"#444444\")\n",
    "\n",
    "root.resizable('0', '0')\n",
    "root.title(\"Digit Identifier\")"
   ]
  },
  {
   "cell_type": "code",
   "execution_count": 5,
   "id": "67e3ba93",
   "metadata": {},
   "outputs": [],
   "source": [
    "canvas = tk.Canvas(root, bg='black', height=300, width=300)\n",
    "canvas.grid(row=0, column=0, columnspan=4)\n",
    "img = Image.new('RGB', (300,300), ('black'))\n",
    "imagedraw = ImageDraw.Draw(img)\n",
    "count = 0\n",
    "text_change = \"Draw me a number!\""
   ]
  },
  {
   "cell_type": "code",
   "execution_count": 6,
   "id": "8fbed68f",
   "metadata": {},
   "outputs": [],
   "source": [
    "import cv2\n",
    "def draw(event):\n",
    "    x , y = event.x , event.y\n",
    "    x1 , y1 = x-10 , y-10\n",
    "    x2, y2 = x+10 , y+10\n",
    "\n",
    "    canvas.create_oval((x1, y1,x2,y2), fill='white', outline='white')\n",
    "    imagedraw.ellipse((x1, y1,x2,y2), fill='white', outline='white')\n",
    "    \n",
    "def clear_canvas():\n",
    "    global img, imagedraw\n",
    "    img = Image.new('RGB', (300,300), ('black'))\n",
    "    imagedraw = ImageDraw.Draw(img)\n",
    "    canvas.delete('all')\n",
    "    \n",
    "\n",
    "def predict():\n",
    "    global count\n",
    "    global text_change\n",
    "    global pred_svm_rbf\n",
    "    \n",
    "    imagearray = np.array(img)\n",
    "    imagearray = cv2.cvtColor(imagearray, cv2.COLOR_BGR2GRAY)\n",
    "    image1 = cv2.resize(imagearray, (28,28))\n",
    "    cv2.imwrite(str(count)+'.jpg',image1)\n",
    "    read_img = imread(str(count)+'.jpg')\n",
    "    convert = np.array(read_img).reshape(-1,784)  \n",
    "    for i in range(0,count):\n",
    "        os.remove(str(count+i)+'.jpg')\n",
    "        count = count+1\n",
    "    \n",
    "    pred_svm_rbf = svm_rbf.predict(convert)\n",
    "    text_change = \"I think it is . . .\" + str(pred_svm_rbf[0])\n",
    "    label.config(text = text_change)"
   ]
  },
  {
   "cell_type": "code",
   "execution_count": 7,
   "id": "29bfd93a",
   "metadata": {},
   "outputs": [
    {
     "name": "stderr",
     "output_type": "stream",
     "text": [
      "C:\\Users\\satij\\anaconda3\\lib\\site-packages\\sklearn\\base.py:450: UserWarning: X does not have valid feature names, but SVC was fitted with feature names\n",
      "  warnings.warn(\n",
      "C:\\Users\\satij\\anaconda3\\lib\\site-packages\\sklearn\\base.py:450: UserWarning: X does not have valid feature names, but SVC was fitted with feature names\n",
      "  warnings.warn(\n",
      "C:\\Users\\satij\\anaconda3\\lib\\site-packages\\sklearn\\base.py:450: UserWarning: X does not have valid feature names, but SVC was fitted with feature names\n",
      "  warnings.warn(\n",
      "C:\\Users\\satij\\anaconda3\\lib\\site-packages\\sklearn\\base.py:450: UserWarning: X does not have valid feature names, but SVC was fitted with feature names\n",
      "  warnings.warn(\n",
      "C:\\Users\\satij\\anaconda3\\lib\\site-packages\\sklearn\\base.py:450: UserWarning: X does not have valid feature names, but SVC was fitted with feature names\n",
      "  warnings.warn(\n",
      "C:\\Users\\satij\\anaconda3\\lib\\site-packages\\sklearn\\base.py:450: UserWarning: X does not have valid feature names, but SVC was fitted with feature names\n",
      "  warnings.warn(\n",
      "C:\\Users\\satij\\anaconda3\\lib\\site-packages\\sklearn\\base.py:450: UserWarning: X does not have valid feature names, but SVC was fitted with feature names\n",
      "  warnings.warn(\n",
      "C:\\Users\\satij\\anaconda3\\lib\\site-packages\\sklearn\\base.py:450: UserWarning: X does not have valid feature names, but SVC was fitted with feature names\n",
      "  warnings.warn(\n",
      "C:\\Users\\satij\\anaconda3\\lib\\site-packages\\sklearn\\base.py:450: UserWarning: X does not have valid feature names, but SVC was fitted with feature names\n",
      "  warnings.warn(\n",
      "C:\\Users\\satij\\anaconda3\\lib\\site-packages\\sklearn\\base.py:450: UserWarning: X does not have valid feature names, but SVC was fitted with feature names\n",
      "  warnings.warn(\n",
      "C:\\Users\\satij\\anaconda3\\lib\\site-packages\\sklearn\\base.py:450: UserWarning: X does not have valid feature names, but SVC was fitted with feature names\n",
      "  warnings.warn(\n",
      "C:\\Users\\satij\\anaconda3\\lib\\site-packages\\sklearn\\base.py:450: UserWarning: X does not have valid feature names, but SVC was fitted with feature names\n",
      "  warnings.warn(\n"
     ]
    }
   ],
   "source": [
    "canvas.bind(\"<B1-Motion>\", draw)\n",
    "\n",
    "button_predict = tk.Button(root, text='PREDICT', width=10, height=2, bg='black', fg='white', font='Helvetica', command= predict)\n",
    "button_predict.grid(row=2,column=0)\n",
    "\n",
    "button_clear = tk.Button(root, text='CLEAR', width=10, height=2, bg='black', fg='white', font='Helvetica', command= clear_canvas)\n",
    "button_clear.grid(row=2,column=2)\n",
    "\n",
    "button_exit= tk.Button(root, text='EXIT', width=10, height=2, bg='black', fg='white', font='Helvetica', command= root.destroy)\n",
    "button_exit.grid(row=2,column=3)\n",
    "\n",
    "label = tk.Label(root, text=text_change, bg = 'black', fg='white', font = 'Helvetica', width=33, height=2)\n",
    "label.grid(row=3, column=0, columnspan=4)\n",
    "\n",
    "root.mainloop()"
   ]
  },
  {
   "cell_type": "code",
   "execution_count": null,
   "id": "f368740b",
   "metadata": {},
   "outputs": [],
   "source": []
  }
 ],
 "metadata": {
  "kernelspec": {
   "display_name": "Python 3 (ipykernel)",
   "language": "python",
   "name": "python3"
  },
  "language_info": {
   "codemirror_mode": {
    "name": "ipython",
    "version": 3
   },
   "file_extension": ".py",
   "mimetype": "text/x-python",
   "name": "python",
   "nbconvert_exporter": "python",
   "pygments_lexer": "ipython3",
   "version": "3.9.13"
  }
 },
 "nbformat": 4,
 "nbformat_minor": 5
}
